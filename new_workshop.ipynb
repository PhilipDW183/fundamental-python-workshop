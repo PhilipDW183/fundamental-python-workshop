{
 "cells": [
  {
   "cell_type": "markdown",
   "metadata": {},
   "source": [
    "## Data Science Workshop 1: Fundamentals of Python\n",
    "Welcome to the first Data Science Society workshop on Python! The aim of these workshops will be to teach you enough Python so that you'll be able to use machine learning algorithms on various datasets for data analysis. We will be avoiding the more complex maths behind these algorithms leaning instead towards packages like Scikit Learn which already provide us with these algorithms. To begin with we will cover the very basics of Python. At the end of the our workshop series, you will have the ability to read the documentations of many programming language and we sincerely this will prepare you to be on track of the data science world. \n",
    "\n",
    "###Please do interrupt me anytime that you have a questions!\n",
    "\n",
    "### Jupyter Notebook\n",
    "Throughout these workshops we will be using the Jupyter Notebook editor. In this editor code is run in code cells and text is run in markdown cells. You can change the type of cell using at the top of the page below the words Kernel and Widgets. The options to edit cells are found at the top of the page: \"+\" to create a new cell, scissors to cut a cell etc.\n",
    "#### Markdown Cells\n",
    "The text you are reading now is in a markdown cell. To edit the text double click on the cell. To run the cell press Shift + Enter. These cells don't actually run code but mainly serve as a means of allowing you to describe what your code is supposed to do, so that you can inform someone else or remind yourself of what your code is doing when you revisit it. These cells also allow for the formatting of equations when you place something in between two single dollar signs. For instance: $ E = mc^2 $. Doing so between two double dollar signs places the equation on a new line like so: $$ \\nabla \\cdot B = 0. $$ \n",
    "Don't worry about what these equations mean!\n",
    "#### Code Cells\n",
    "Code cells are as the name the suggests where you actually write you're code. You can run a code cell by pressing Shift + Enter to run the code in that cell. When you run a cell the output will be displayed below the code cell. Below is a code cell for you to run. "
   ]
  },
  {
   "cell_type": "markdown",
   "metadata": {},
   "source": [
    "### Command line execution and compiled files\n",
    "Here will give you two different ways we usually use to execute a program.\n",
    "First make sure python3 is installed and properly set uped in your computer\n",
    "You need to use the teriminal on your machine if you are a Linux based user(MacOs for example). If you are a Windows user, press \"the windows key\" and \"R\" and search for cmd. Enter \"python3 --version\", this will help you identifies your python version.\n",
    "\n",
    "You can execute your python file here with \"python3 name.py\" to execute the file\n",
    "Or you can execute them one by one inside the terminal."
   ]
  },
  {
   "cell_type": "code",
   "execution_count": 14,
   "metadata": {},
   "outputs": [
    {
     "name": "stdout",
     "output_type": "stream",
     "text": [
      "If you are reading this, this cell has been run!\n"
     ]
    }
   ],
   "source": [
    "print(\"If you are reading this, this cell has been run!\")"
   ]
  },
  {
   "cell_type": "markdown",
   "metadata": {},
   "source": [
    "### Commenting \n",
    "Inside code cells you can write notes by using the # symbol. Putting it in front of a line of code means that code won't be run when running the cell. This is useful when you want to see what removing a line of code briefly without deleting the line entirely and having to rewrite it again. Additionally, the # symbol is used in commenting on your code so that another user, or yourself when you return to the code can figure out what that code does. It is good practice to leave comments in your code however they should be consise to avoid overcommenting that may make your code harder to read. If ever in doubt imagine that if you ever undercomment two kittens die and if you ever overcomment one kitten dies. Below is a code cell identical to the one above save for the fact the # symbol is in front of the line of code. If you run the code you will not see any output."
   ]
  },
  {
   "cell_type": "code",
   "execution_count": 15,
   "metadata": {},
   "outputs": [],
   "source": [
    "# print(\"If you are reading this, this cell has been run!\")"
   ]
  },
  {
   "cell_type": "markdown",
   "metadata": {},
   "source": [
    "### Print Statements\n",
    "One of the most basic functions in Python is the ````print```` statement we used above. As the name suggests it \"prints\" the argument you pass through it. It's the first function nearly every programmer learned. We will cover what is meant by the word \"function\" in the next part."
   ]
  },
  {
   "cell_type": "code",
   "execution_count": 16,
   "metadata": {},
   "outputs": [
    {
     "name": "stdout",
     "output_type": "stream",
     "text": [
      "Line 1\n",
      "Line 2\n"
     ]
    }
   ],
   "source": [
    "print(\"Line 1\")\n",
    "print(\"Line 2\")"
   ]
  },
  {
   "cell_type": "markdown",
   "metadata": {},
   "source": [
    "Commas in ````print```` statements and indeed in all functions are used to seperate different arguments. In ````print```` statements you typically do this when \"printing\" different data types. Passing ````print(\"The population of London is\", 8.136, \"million\")```` will output ````The population of London is 8.136 million````. As can be seen each argument is printed with a space in between them. For this example the arguments in quotation marks are strings; essentially a set of characters, while the second argument is a float; essentially a number. We will discuss data types in more detail later."
   ]
  },
  {
   "cell_type": "code",
   "execution_count": 17,
   "metadata": {},
   "outputs": [
    {
     "name": "stdout",
     "output_type": "stream",
     "text": [
      "The population of London is 8.136 million\n"
     ]
    }
   ],
   "source": [
    "print(\"The population of London is\", 8.136, \"million\")"
   ]
  },
  {
   "cell_type": "markdown",
   "metadata": {},
   "source": [
    "Now use the print statement in the code cell below to print a message of your choosing."
   ]
  },
  {
   "cell_type": "code",
   "execution_count": 18,
   "metadata": {},
   "outputs": [
    {
     "name": "stdout",
     "output_type": "stream",
     "text": [
      "\n"
     ]
    }
   ],
   "source": [
    "print()"
   ]
  },
  {
   "cell_type": "markdown",
   "metadata": {},
   "source": [
    "*Here will give an example of how to perform the print function using C.*\n",
    "\n",
    "\n"
   ]
  },
  {
   "cell_type": "markdown",
   "metadata": {},
   "source": [
    "### Basic Operations\n",
    "Below are some basic mathmatical operations that are coded in the code cell that follows.\n",
    "$$ 2 + 2 = 4 $$\n",
    "$$ 5 - 2 = 3 $$\n",
    "$$ 2 \\times 4 = 8 $$\n",
    "$$ \\frac{6}{3} = 2 $$\n",
    "$$ 5^3 = 125 $$\n",
    "Running the code cell below should give you the right hand side of each equation."
   ]
  },
  {
   "cell_type": "code",
   "execution_count": 19,
   "metadata": {},
   "outputs": [
    {
     "name": "stdout",
     "output_type": "stream",
     "text": [
      "Addition: 4\n",
      "Subtraction: 3\n",
      "Multiplication: 8\n",
      "Division: 2.0\n",
      "Powers: 125\n",
      "Divison without remainder: 2\n",
      "Division returning the remainder: 1\n"
     ]
    }
   ],
   "source": [
    "# Addition\n",
    "print(\"Addition:\", 2 + 2)\n",
    "\n",
    "# Subtraction \n",
    "print(\"Subtraction:\", 5 - 2)\n",
    "\n",
    "# Multiplication\n",
    "print(\"Multiplication:\", 2*4)\n",
    "\n",
    "# Division\n",
    "print(\"Division:\", 6/3)\n",
    "\n",
    "# Powers\n",
    "print(\"Powers:\", 5**3)\n",
    "\n",
    "# Division without remainder \n",
    "print(\"Divison without remainder:\", 7//3)\n",
    "\n",
    "# Returns remainder\n",
    "print(\"Division returning the remainder:\", 7%3)"
   ]
  },
  {
   "cell_type": "markdown",
   "metadata": {},
   "source": [
    "Be aware that is often easy to make syntax errors when performing mathmatical operations. Sometimes this involves writing something to the effect of ````2x```` instead of ````2*x```` where the former would look for a variable defined as ````2x```` and the latter would multiply a variable ````x```` by $2$. In large calculations when using brackets it is very easy to make mistakes so be alert for potential mistakes. Clarity of code is important to help make it easier to read and spot mistakes. Often rather than having an entire calculation in one messy line of code its often best to split the calculation into several lines that are easier to read. \n",
    "\n",
    "In the code cell below print the result of the following operations: $$ 4^7 $$ $$ 8\\times123 $$ $$ \\frac{4523}{84} $$"
   ]
  },
  {
   "cell_type": "code",
   "execution_count": 20,
   "metadata": {},
   "outputs": [
    {
     "name": "stdout",
     "output_type": "stream",
     "text": [
      "\n",
      "\n",
      "\n"
     ]
    }
   ],
   "source": [
    "# 4 to the power of 7\n",
    "print()\n",
    "\n",
    "# 8 x 123\n",
    "print()\n",
    "\n",
    "# 4523 divided by 84\n",
    "print()"
   ]
  },
  {
   "cell_type": "markdown",
   "metadata": {},
   "source": [
    "### Difference between build-in functions and imported function\n",
    "You may question why we use this () in the print function and why it's called a function.\n",
    "A function is like a set of steps in which the computer can carry out an operations.\n",
    "This is comonly used to hide complexities from the users because we know how a function operates without knowing how it is implemented.\n",
    "\"https://docs.python.org/3/library/math.html\" This is an url for the python math library that will be using for the coming section.\n",
    "Here we will use a terminal commands to illustrate this concept."
   ]
  },
  {
   "cell_type": "code",
   "execution_count": 21,
   "metadata": {},
   "outputs": [
    {
     "name": "stdout",
     "output_type": "stream",
     "text": [
      "5.477225575051661\n"
     ]
    }
   ],
   "source": [
    "from math import sqrt\n",
    "print(sqrt(30))"
   ]
  },
  {
   "cell_type": "code",
   "execution_count": 22,
   "metadata": {},
   "outputs": [
    {
     "name": "stdout",
     "output_type": "stream",
     "text": [
      "5.477225575051661\n"
     ]
    }
   ],
   "source": [
    "import math\n",
    "print(math.sqrt(30))"
   ]
  },
  {
   "cell_type": "markdown",
   "metadata": {},
   "source": [
    "### Defining variables \n",
    "You can define variables then redefine later in the following ways:"
   ]
  },
  {
   "cell_type": "code",
   "execution_count": 23,
   "metadata": {},
   "outputs": [
    {
     "name": "stdout",
     "output_type": "stream",
     "text": [
      "x = 5\n",
      "x = string\n",
      "x = 7\n",
      "x = 8\n",
      "x = 9\n"
     ]
    }
   ],
   "source": [
    "# Defining a variable x as 5\n",
    "x = 5\n",
    "print(\"x =\", x)\n",
    "\n",
    "# Redefining a variable x as a string \"string\"\n",
    "x = \"string\"\n",
    "print(\"x =\", x)\n",
    "\n",
    "# Redefining a variable x as 7\n",
    "x = 7 \n",
    "print(\"x =\", x)\n",
    "\n",
    "# Redefining x as 8 by adding 1 (The same can be done for other mathmatical operations)\n",
    "x = x + 1\n",
    "print(\"x =\", x)\n",
    "\n",
    "# Redefining x as 9 by adding 1 (The same can be done for other mathmatical operations)\n",
    "x += 1\n",
    "print(\"x =\", x)"
   ]
  },
  {
   "cell_type": "markdown",
   "metadata": {},
   "source": [
    "In the code cell below, define a variable ````x```` to be a number $12$ and then print it it by calling the variable ````x````. Then define ````x```` as a string of your choice and print this string by passing ````x```` in a print statement."
   ]
  },
  {
   "cell_type": "code",
   "execution_count": 24,
   "metadata": {},
   "outputs": [
    {
     "ename": "SyntaxError",
     "evalue": "invalid syntax (<ipython-input-24-8369e5e6d85d>, line 1)",
     "output_type": "error",
     "traceback": [
      "\u001b[0;36m  File \u001b[0;32m\"<ipython-input-24-8369e5e6d85d>\"\u001b[0;36m, line \u001b[0;32m1\u001b[0m\n\u001b[0;31m    x =\u001b[0m\n\u001b[0m        ^\u001b[0m\n\u001b[0;31mSyntaxError\u001b[0m\u001b[0;31m:\u001b[0m invalid syntax\n"
     ]
    }
   ],
   "source": [
    "x = \n",
    "print()\n",
    "\n",
    "x = \n",
    "print()"
   ]
  },
  {
   "cell_type": "markdown",
   "metadata": {},
   "source": [
    "### Data Types\n",
    "Notice how the code above produces $2.0$ as the output instead of $2$ for division. Is there any difference? The answer is yes as $2.0$ is a float and $2$ is an integer. This may seem a trivial distinction but it can be important as some functions will only take integers as so if you pass float instead you'll recieve an error. Both floats and integers are real numbers but the integer lacks any decimal points. In addition to floats and integers there are also strings which are a collection of characters, often text but sometimes numbers. Using the functions: ````str````, ````float```` and ````int```` you can convert between these data types provided the input can be interpreted as the type of data you are converting to. Examples are given in the cell below."
   ]
  },
  {
   "cell_type": "code",
   "execution_count": 25,
   "metadata": {},
   "outputs": [
    {
     "name": "stdout",
     "output_type": "stream",
     "text": [
      "2.0\n",
      "2\n",
      "2\n"
     ]
    },
    {
     "ename": "TypeError",
     "evalue": "unsupported operand type(s) for +: 'int' and 'str'",
     "output_type": "error",
     "traceback": [
      "\u001b[0;31m---------------------------------------------------------------------------\u001b[0m",
      "\u001b[0;31mTypeError\u001b[0m                                 Traceback (most recent call last)",
      "\u001b[0;32m<ipython-input-25-a477a480d6ac>\u001b[0m in \u001b[0;36m<module>\u001b[0;34m\u001b[0m\n\u001b[1;32m      9\u001b[0m \u001b[0;34m\u001b[0m\u001b[0m\n\u001b[1;32m     10\u001b[0m \u001b[0;31m# Trying to add a string and number\u001b[0m\u001b[0;34m\u001b[0m\u001b[0;34m\u001b[0m\u001b[0;34m\u001b[0m\u001b[0m\n\u001b[0;32m---> 11\u001b[0;31m \u001b[0mprint\u001b[0m\u001b[0;34m(\u001b[0m\u001b[0;36m2\u001b[0m \u001b[0;34m+\u001b[0m \u001b[0mstr\u001b[0m\u001b[0;34m(\u001b[0m\u001b[0;36m2\u001b[0m\u001b[0;34m)\u001b[0m\u001b[0;34m)\u001b[0m\u001b[0;34m\u001b[0m\u001b[0;34m\u001b[0m\u001b[0m\n\u001b[0m",
      "\u001b[0;31mTypeError\u001b[0m: unsupported operand type(s) for +: 'int' and 'str'"
     ]
    }
   ],
   "source": [
    "# Converting to float (The input \"2\" is a string)\n",
    "print(float(\"2\"))\n",
    "\n",
    "# Converting to integer (The input 2.0 is a float)\n",
    "print(int(2.0))\n",
    "\n",
    "# Converting to string (The input 2 is an integer)\n",
    "print(str(2))\n",
    "\n",
    "# Trying to add a string and number\n",
    "print(2 + str(2))"
   ]
  },
  {
   "cell_type": "markdown",
   "metadata": {},
   "source": [
    "###What does this type means?\n",
    "\n",
    "Before we move on the next session, I think it's better to explain what is meant by this Data Type concetpy.\n",
    "Python is not a strongly typed function so that you can put different values to the same variable name.\n",
    "This is totally different in an older programming language like C.\n",
    "Here I will show you a little bit of the differences"
   ]
  },
  {
   "cell_type": "markdown",
   "metadata": {},
   "source": [
    "#### Strings\n",
    "As can be seen above the attempt to add an integer and string together failed. This shows how the two data types behave differently. One can add strings together as follows:"
   ]
  },
  {
   "cell_type": "code",
   "execution_count": 26,
   "metadata": {},
   "outputs": [
    {
     "name": "stdout",
     "output_type": "stream",
     "text": [
      "25\n",
      "Hi\n"
     ]
    }
   ],
   "source": [
    "# Adding two strings\n",
    "print(\"2\" + \"5\")\n",
    "print(\"H\" + \"i\")"
   ]
  },
  {
   "cell_type": "markdown",
   "metadata": {},
   "source": [
    "In the code cell below add the strings \"Ye\" and \"et\" together outputting the result."
   ]
  },
  {
   "cell_type": "code",
   "execution_count": 27,
   "metadata": {},
   "outputs": [
    {
     "name": "stdout",
     "output_type": "stream",
     "text": [
      "\n"
     ]
    }
   ],
   "source": [
    "print()"
   ]
  },
  {
   "cell_type": "markdown",
   "metadata": {},
   "source": [
    "Strings are essentially lists of characters. One can pick out specific characters in a string by slicing the string as you would a list. Once again Python starts counting from $0$. Strings seperated with spaces may also be split into a list of strings. This means that if your string was a sentence then you could split it into the a list containing the words that make up that sentance. This is all demonstrated below."
   ]
  },
  {
   "cell_type": "code",
   "execution_count": 28,
   "metadata": {},
   "outputs": [
    {
     "name": "stdout",
     "output_type": "stream",
     "text": [
      "O\n",
      "e\n",
      "One\n",
      "does\n",
      "Upon splitting the string we get: ['One', 'does', 'not', 'simply', 'walk', 'into', 'ExCel.']\n",
      "ExCel.\n",
      "E\n"
     ]
    }
   ],
   "source": [
    "# Defining x as a specific string\n",
    "x = \"One does not simply walk into ExCel.\"\n",
    "\n",
    "# First character of the string x\n",
    "print(x[0])\n",
    "\n",
    "# Third character of the string x\n",
    "print(x[2])\n",
    "\n",
    "# First three characters of string x\n",
    "print(x[:3])\n",
    "\n",
    "# Fifth to seventh character of string x\n",
    "print(x[4:8])\n",
    "\n",
    "# Splitting the string x into a list of strings\n",
    "x = x.split()\n",
    "print(\"Upon splitting the string we get:\", x)\n",
    "\n",
    "# Prints fourth word/term of the split string x (One could also have used x.split()[6] instead) \n",
    "print(x[6])\n",
    "\n",
    "# Prints first letter in the fourth word/term of the split string x\n",
    "print(x[6][0])"
   ]
  },
  {
   "cell_type": "markdown",
   "metadata": {},
   "source": [
    "In the code cell below define ````y```` as a string of your choosing though one consisting of multiple words. Print the first five characters of the string. Then split the string and print the second word by slicing the split string."
   ]
  },
  {
   "cell_type": "code",
   "execution_count": 29,
   "metadata": {},
   "outputs": [
    {
     "ename": "SyntaxError",
     "evalue": "invalid syntax (<ipython-input-29-d31b0ec3cb4e>, line 2)",
     "output_type": "error",
     "traceback": [
      "\u001b[0;36m  File \u001b[0;32m\"<ipython-input-29-d31b0ec3cb4e>\"\u001b[0;36m, line \u001b[0;32m2\u001b[0m\n\u001b[0;31m    y =\u001b[0m\n\u001b[0m        ^\u001b[0m\n\u001b[0;31mSyntaxError\u001b[0m\u001b[0;31m:\u001b[0m invalid syntax\n"
     ]
    }
   ],
   "source": [
    "# Define x as a string\n",
    "y = \n",
    "# Return first five characters\n",
    "print(y[])\n",
    "\n",
    "# Split the string \n",
    "y = \n",
    "# Return second word\n",
    "print(y[])"
   ]
  },
  {
   "cell_type": "code",
   "execution_count": null,
   "metadata": {},
   "outputs": [],
   "source": []
  }
 ],
 "metadata": {
  "kernelspec": {
   "display_name": "Python 3",
   "language": "python",
   "name": "python3"
  },
  "language_info": {
   "codemirror_mode": {
    "name": "ipython",
    "version": 3
   },
   "file_extension": ".py",
   "mimetype": "text/x-python",
   "name": "python",
   "nbconvert_exporter": "python",
   "pygments_lexer": "ipython3",
   "version": "3.7.4"
  }
 },
 "nbformat": 4,
 "nbformat_minor": 2
}
